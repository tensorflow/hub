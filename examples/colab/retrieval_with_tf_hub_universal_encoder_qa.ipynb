{
  "cells": [
    {
      "cell_type": "markdown",
      "metadata": {
        "colab_type": "text",
        "id": "VFMCdVJIIraw"
      },
      "source": [
        "##### Copyright 2019 The TensorFlow Hub Authors.\n",
        "\n",
        "Licensed under the Apache License, Version 2.0 (the \"License\");"
      ]
    },
    {
      "cell_type": "code",
      "execution_count": 0,
      "metadata": {
        "cellView": "code",
        "colab": {},
        "colab_type": "code",
        "id": "ZxMYj8OpIrCp"
      },
      "outputs": [],
      "source": [
        "# Copyright 2019 The TensorFlow Hub Authors. All Rights Reserved.\n",
        "#\n",
        "# Licensed under the Apache License, Version 2.0 (the \"License\");\n",
        "# you may not use this file except in compliance with the License.\n",
        "# You may obtain a copy of the License at\n",
        "#\n",
        "#     http://www.apache.org/licenses/LICENSE-2.0\n",
        "#\n",
        "# Unless required by applicable law or agreed to in writing, software\n",
        "# distributed under the License is distributed on an \"AS IS\" BASIS,\n",
        "# WITHOUT WARRANTIES OR CONDITIONS OF ANY KIND, either express or implied.\n",
        "# See the License for the specific language governing permissions and\n",
        "# limitations under the License.\n",
        "# =============================================================================="
      ]
    },
    {
      "cell_type": "markdown",
      "metadata": {
        "colab_type": "text",
        "id": "0fO2R2BBKx3l"
      },
      "source": [
        "# Multilingual Universal Sentence Encoder Q\u0026A model Retrieval Demo\n",
        "\u003ctable align=\"left\"\u003e\u003ctd\u003e\n",
        "  \u003ca target=\"_blank\"  href=\"https://colab.research.google.com/github/tensorflow/hub/blob/master/examples/colab/retrieval_with_tf_hub_universal_encoder_qa.ipynb\"\u003e\n",
        "    \u003cimg src=\"https://www.tensorflow.org/images/colab_logo_32px.png\" /\u003eRun in Google Colab\n",
        "  \u003c/a\u003e\n",
        "\u003c/td\u003e\u003ctd\u003e\n",
        "  \u003ca target=\"_blank\"  href=\"https://github.com/tensorflow/hub/blob/master/examples/colab/retrieval_with_tf_hub_universal_encoder_qa.ipynb\"\u003e\n",
        "    \u003cimg width=32px src=\"https://www.tensorflow.org/images/GitHub-Mark-32px.png\" /\u003eView source on GitHub\u003c/a\u003e\n",
        "\u003c/td\u003e\u003c/table\u003e"
      ]
    },
    {
      "cell_type": "markdown",
      "metadata": {
        "colab_type": "text",
        "id": "zsDm_WgMNlJQ"
      },
      "source": [
        "This is a demo for using [Univeral Encoder Multilingual Q\u0026A model](https://tfhub.dev/google/universal-sentence-encoder-multilingual-qa/1) for question-answer retrieval of text, illustrating the use of **question_encoder** and **response_encoder** of the model. We use sentences from [SQuAD](https://rajpurkar.github.io/SQuAD-explorer/) paragraphs as the demo dataset, each sentence and its context (the text surrounding the sentence) is encoded into high dimension embeddings with the **response_encoder**. These embeddings are stored in an index built using the [simpleneighbors](https://pypi.org/project/simpleneighbors/) library for question-answer retrieval.\n",
        "\n",
        "On retrieval a random question is selected from the [SQuAD](https://rajpurkar.github.io/SQuAD-explorer/) dataset and encoded into high dimension embedding with the **question_encoder** and query the  simpleneighbors index returning a list of approximate nearest neighbors in semantic space.\n",
        "\n",
        "Note: This colab requires **Python 3** runtime type, which can be selected from ***Runtime-\u003eChange Runtime type*** dropdown menu above, and\n",
        "to enable faster processing, select Hardware Accelerator \"**GPU**\". Estimated indexing time of the SQuAD train 2.0 dataset with ~94,000 sentences with GPU is about 3 mins."
      ]
    },
    {
      "cell_type": "code",
      "execution_count": 0,
      "metadata": {
        "cellView": "form",
        "colab": {},
        "colab_type": "code",
        "id": "x00t_uJCEbeb"
      },
      "outputs": [],
      "source": [
        "#@title Setup Environment\n",
        "#latest Tensorflow that supports sentencepiece is 1.13.1\n",
        "!pip3 uninstall --quiet --yes tensorflow\n",
        "!pip3 install --quiet tensorflow-gpu==1.13.1\n",
        "!pip3 install --quiet tensorflow-hub\n",
        "!pip3 install --quiet sentencepiece\n",
        "!pip3 install --quiet tf-sentencepiece\n",
        "!pip3 install --quiet simpleneighbors\n",
        "!pip3 install --quiet nltk"
      ]
    },
    {
      "cell_type": "code",
      "execution_count": 0,
      "metadata": {
        "cellView": "form",
        "colab": {},
        "colab_type": "code",
        "id": "DmeFAuVsyWxg"
      },
      "outputs": [],
      "source": [
        "#@title Setup common imports and functions\n",
        "import json\n",
        "import nltk\n",
        "import os\n",
        "import pprint\n",
        "import random\n",
        "import simpleneighbors\n",
        "import urllib\n",
        "from IPython.display import HTML, display\n",
        "\n",
        "import tensorflow as tf\n",
        "import tensorflow_hub as hub\n",
        "import tf_sentencepiece\n",
        "\n",
        "nltk.download('punkt')\n",
        "\n",
        "\n",
        "def download_squad(url):\n",
        "  return json.load(urllib.request.urlopen(url))\n",
        "\n",
        "def extract_sentences_from_squad_json(squad):\n",
        "  all_sentences = []\n",
        "  for data in squad['data']:\n",
        "    for paragraph in data['paragraphs']:\n",
        "      sentences = nltk.tokenize.sent_tokenize(paragraph['context'])\n",
        "      all_sentences.extend(zip(sentences, [paragraph['context']] * len(sentences)))\n",
        "  return list(set(all_sentences)) # remove duplicates\n",
        "\n",
        "def extract_questions_from_squad_json(squad):\n",
        "  questions = []\n",
        "  for data in squad['data']:\n",
        "    for paragraph in data['paragraphs']:\n",
        "      for qas in paragraph['qas']:\n",
        "        if qas['answers']:\n",
        "          questions.append((qas['question'], qas['answers'][0]['text']))\n",
        "  return list(set(questions))\n",
        "\n",
        "def output_with_highlight(text, highlight):\n",
        "  output = \"\u003cli\u003e \"\n",
        "  i = text.find(highlight)\n",
        "  while True:\n",
        "    if i == -1:\n",
        "      output += text\n",
        "      break\n",
        "    output += text[0:i]\n",
        "    output += '\u003cb\u003e'+text[i:i+len(highlight)]+'\u003c/b\u003e'\n",
        "    text = text[i+len(highlight):]\n",
        "    i = text.find(highlight)\n",
        "  return output + \"\u003c/li\u003e\\n\"\n",
        "\n",
        "def display_nearest_neighbors(query_text, answer_text=None):\n",
        "  query_embedding = session.run(question_embedding, feed_dict={question: [query_text]})['outputs'][0]\n",
        "  search_results = index.nearest(query_embedding, n=num_results)\n",
        "\n",
        "  if answer_text:\n",
        "    result_md = '''\n",
        "    \u003cp\u003eRandom Question from SQuAD:\u003c/p\u003e\n",
        "    \u003cp\u003e\u0026nbsp;\u0026nbsp;\u003cb\u003e%s\u003c/b\u003e\u003c/p\u003e\n",
        "    \u003cp\u003eAnswer:\u003c/p\u003e\n",
        "    \u003cp\u003e\u0026nbsp;\u0026nbsp;\u003cb\u003e%s\u003c/b\u003e\u003c/p\u003e\n",
        "    ''' % (query_text , answer_text)\n",
        "  else:\n",
        "    result_md = '''\n",
        "    \u003cp\u003eQuestion:\u003c/p\u003e\n",
        "    \u003cp\u003e\u0026nbsp;\u0026nbsp;\u003cb\u003e%s\u003c/b\u003e\u003c/p\u003e\n",
        "    ''' % query_text\n",
        "\n",
        "  result_md += '''\n",
        "    \u003cp\u003eRetrieved sentences :\n",
        "    \u003col\u003e\n",
        "  '''\n",
        "\n",
        "  if answer_text:\n",
        "    for s in search_results:\n",
        "      result_md += output_with_highlight(s, answer_text)\n",
        "  else:\n",
        "    for s in search_results:\n",
        "      result_md += '\u003cli\u003e' + s + '\u003c/li\u003e\\n'\n",
        "\n",
        "  result_md += \"\u003c/ol\u003e\"\n",
        "  display(HTML(result_md))"
      ]
    },
    {
      "cell_type": "markdown",
      "metadata": {
        "colab_type": "text",
        "id": "1kbkT8i3FL_C"
      },
      "source": [
        "Run the following code block to download and extract the SQuAD dataset into:\n",
        "\n",
        "* **sentences** is a list of (text, context) tuples - each paragraph from the SQuAD dataset are splitted into sentences using nltk library and the sentence and paragraph text forms the (text, context) tuple.\n",
        "* **questions** is a list of (question, answer) tuples.\n",
        "\n",
        "Note: You can use this demo to index the SQuAD train dataset or the smaller dev dataset (1.1 or 2.0) by selecting the **squad_url** below.\n"
      ]
    },
    {
      "cell_type": "code",
      "execution_count": 0,
      "metadata": {
        "cellView": "both",
        "colab": {},
        "colab_type": "code",
        "id": "iYqV2GAty_Eh"
      },
      "outputs": [],
      "source": [
        "#@title Download and extract SQuAD data\n",
        "%%time\n",
        "squad_url = 'https://rajpurkar.github.io/SQuAD-explorer/dataset/dev-v1.1.json' #@param [\"https://rajpurkar.github.io/SQuAD-explorer/dataset/train-v2.0.json\", \"https://rajpurkar.github.io/SQuAD-explorer/dataset/dev-v2.0.json\", \"https://rajpurkar.github.io/SQuAD-explorer/dataset/train-v1.1.json\", \"https://rajpurkar.github.io/SQuAD-explorer/dataset/dev-v1.1.json\"]\n",
        "\n",
        "squad_json = download_squad(squad_url)\n",
        "sentences = extract_sentences_from_squad_json(squad_json)\n",
        "questions = extract_questions_from_squad_json(squad_json)\n",
        "print(\"%s sentences, %s questions extracted from SQuAD %s\" % (len(sentences), len(questions), squad_url))\n",
        "\n",
        "print(\"\\nExample sentence and context:\\n\")\n",
        "sentence = random.choice(sentences)\n",
        "print(\"sentence:\\n\")\n",
        "pprint.pprint(sentence[0])\n",
        "print(\"\\ncontext:\\n\")\n",
        "pprint.pprint(sentence[1])\n",
        "print()"
      ]
    },
    {
      "cell_type": "markdown",
      "metadata": {
        "colab_type": "text",
        "id": "9x3u-2uSGbDf"
      },
      "source": [
        "The following code block setup the tensorflow graph **g** and **session** with the [Univeral Encoder Multilingual Q\u0026A model](https://tfhub.dev/google/universal-sentence-encoder-multilingual-qa/1)'s **question_encoder** and **response_encoder** signatures."
      ]
    },
    {
      "cell_type": "code",
      "execution_count": 0,
      "metadata": {
        "colab": {},
        "colab_type": "code",
        "id": "44I0uCRQRiFO"
      },
      "outputs": [],
      "source": [
        "#@title Set up Tensorflow graph and session\n",
        "%%time\n",
        "import tensorflow as tf\n",
        "import tensorflow_hub as hub\n",
        "import tf_sentencepiece\n",
        "\n",
        "module_url = \"https://tfhub.dev/google/universal-sentence-encoder-multilingual-qa/1\"\n",
        "# Set up graph.\n",
        "g = tf.Graph()\n",
        "with g.as_default():\n",
        "  module = hub.Module(module_url)  # load tfhub module\n",
        "  question = tf.placeholder(dtype=tf.string, shape=[None])  # question\n",
        "  response = tf.placeholder(dtype=tf.string, shape=[None])  # response\n",
        "  response_context = tf.placeholder(\n",
        "      dtype=tf.string, shape=[None])  # response context\n",
        "  question_embedding = module(\n",
        "      question, signature=\"question_encoder\", as_dict=True)\n",
        "  response_embedding = module(\n",
        "      inputs={\n",
        "          \"input\": response,\n",
        "          \"context\": response_context\n",
        "      },\n",
        "      signature=\"response_encoder\",\n",
        "      as_dict=True)\n",
        "  init_op = tf.group(\n",
        "      [tf.global_variables_initializer(),\n",
        "       tf.tables_initializer()])\n",
        "g.finalize()\n",
        "\n",
        "# Initialize session.\n",
        "session = tf.Session(graph=g)\n",
        "session.run(init_op)"
      ]
    },
    {
      "cell_type": "markdown",
      "metadata": {
        "colab_type": "text",
        "id": "SCQpDmTZG0O6"
      },
      "source": [
        "The following code block compute the embeddings for all the text, context tuples and store them in a [simpleneighbors](https://pypi.org/project/simpleneighbors/) index using the **response_encoder**.\n"
      ]
    },
    {
      "cell_type": "code",
      "execution_count": 0,
      "metadata": {
        "colab": {},
        "colab_type": "code",
        "id": "FwDUryIfSLp2"
      },
      "outputs": [],
      "source": [
        "#@title Compute embeddings and build simpleneighbors index\n",
        "%%time\n",
        "from google.colab import output\n",
        "\n",
        "batch_size = 100\n",
        "encodings = session.run(\n",
        "    response_embedding,\n",
        "    feed_dict={\n",
        "        response: [sentences[0][0]],\n",
        "        response_context: [sentences[0][1]]\n",
        "    })\n",
        "index = simpleneighbors.SimpleNeighbors(\n",
        "    len(encodings['outputs'][0]), metric='angular')\n",
        "\n",
        "print('Computing embeddings for %s sentences' % len(sentences))\n",
        "slices = zip(*(iter(sentences),) * batch_size)\n",
        "num_batches = int(len(sentences) / batch_size)\n",
        "for n, s in enumerate(slices):\n",
        "  output.clear(output_tags='progress')\n",
        "  with output.use_tags('progress'):\n",
        "    print('Processing batch %s of %s' % (n + 1, num_batches))\n",
        "  response_batch = list([r for r, c in s])\n",
        "  context_batch = list([c for r, c in s])\n",
        "  encodings = session.run(\n",
        "      response_embedding,\n",
        "      feed_dict={\n",
        "          response: response_batch,\n",
        "          response_context: context_batch\n",
        "      })\n",
        "  for i in range(len(response_batch)):\n",
        "    index.add_one(response_batch[i], encodings['outputs'][i])\n",
        "\n",
        "index.build()\n",
        "print('simpleneighbors index for %s sentences built.' % len(sentences))\n"
      ]
    },
    {
      "cell_type": "markdown",
      "metadata": {
        "colab_type": "text",
        "id": "ZkNcjoPzHJpP"
      },
      "source": [
        "On retrieval, the question is encoded using the **question_encoder** and the question embedding is used to query the simpleneighbors index."
      ]
    },
    {
      "cell_type": "code",
      "execution_count": 0,
      "metadata": {
        "cellView": "both",
        "colab": {},
        "colab_type": "code",
        "id": "J0xTw2w3UViK"
      },
      "outputs": [],
      "source": [
        "#@title Retrieve nearest neighbors for a random question from SQuAD\n",
        "num_results = 25 #@param {type:\"slider\", min:5, max:40, step:1}\n",
        "\n",
        "query = random.choice(questions)\n",
        "display_nearest_neighbors(query[0], query[1])"
      ]
    }
  ],
  "metadata": {
    "accelerator": "GPU",
    "colab": {
      "collapsed_sections": [
        "VFMCdVJIIraw"
      ],
      "name": "Universal Encoder Q\u0026A Model Retrieval Demo",
      "provenance": [],
      "version": "0.3.2"
    },
    "kernelspec": {
      "display_name": "Python 3",
      "language": "python",
      "name": "python3"
    }
  },
  "nbformat": 4,
  "nbformat_minor": 0
}
